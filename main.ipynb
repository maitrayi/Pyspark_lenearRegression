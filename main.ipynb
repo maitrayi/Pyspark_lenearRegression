{
 "cells": [
  {
   "cell_type": "code",
   "execution_count": 2,
   "metadata": {},
   "outputs": [],
   "source": [
    "from pyspark.sql import SparkSession\n",
    "import os"
   ]
  },
  {
   "cell_type": "code",
   "execution_count": 3,
   "metadata": {},
   "outputs": [],
   "source": [
    "Spark = SparkSession.builder.appName('project').getOrCreate()"
   ]
  },
  {
   "cell_type": "code",
   "execution_count": 60,
   "metadata": {},
   "outputs": [
    {
     "data": {
      "text/plain": [
       "'c:\\\\Users\\\\Admin\\\\Videos\\\\work\\\\Portfolio\\\\10.pyspark\\\\Pyspark_liner_regression\\\\sample-1.csv'"
      ]
     },
     "execution_count": 60,
     "metadata": {},
     "output_type": "execute_result"
    }
   ],
   "source": [
    "pwd = os.getcwd()\n",
    "file_path= os.path.join(pwd, 'sample-1.csv')\n",
    "file_path"
   ]
  },
  {
   "cell_type": "code",
   "execution_count": 61,
   "metadata": {},
   "outputs": [
    {
     "name": "stdout",
     "output_type": "stream",
     "text": [
      "+--------------+---+----------+------+\n",
      "|          Name|Age|Experience|Salary|\n",
      "+--------------+---+----------+------+\n",
      "|       Laraine| 32|       5.0| 90000|\n",
      "|           Eli| 28|       3.0| 65000|\n",
      "|         Arlin| 45|      15.0|150000|\n",
      "|        Talbot| 36|       7.0| 60000|\n",
      "|Sheila-kathryn| 52|      20.0|200000|\n",
      "|          Curr| 29|       2.0| 55000|\n",
      "|          Fina| 42|      12.0|120000|\n",
      "|           Rod| 31|       4.0| 80000|\n",
      "|          Mala| 26|       1.0| 45000|\n",
      "|      Fiorenze| 38|      10.0|110000|\n",
      "+--------------+---+----------+------+\n",
      "only showing top 10 rows\n",
      "\n"
     ]
    }
   ],
   "source": [
    "training = Spark.read.csv(file_path, header= True, inferSchema=True)\n",
    "training.show(10)"
   ]
  },
  {
   "cell_type": "code",
   "execution_count": 62,
   "metadata": {},
   "outputs": [
    {
     "name": "stdout",
     "output_type": "stream",
     "text": [
      "root\n",
      " |-- Name: string (nullable = true)\n",
      " |-- Age: integer (nullable = true)\n",
      " |-- Experience: double (nullable = true)\n",
      " |-- Salary: integer (nullable = true)\n",
      "\n"
     ]
    }
   ],
   "source": [
    "training.printSchema()"
   ]
  },
  {
   "cell_type": "code",
   "execution_count": 63,
   "metadata": {},
   "outputs": [
    {
     "data": {
      "text/plain": [
       "['Name', 'Age', 'Experience', 'Salary']"
      ]
     },
     "execution_count": 63,
     "metadata": {},
     "output_type": "execute_result"
    }
   ],
   "source": [
    "training.columns"
   ]
  },
  {
   "cell_type": "code",
   "execution_count": 64,
   "metadata": {},
   "outputs": [],
   "source": [
    "from pyspark.ml.feature import VectorAssembler\n",
    "feature_assembler = VectorAssembler(inputCols=['Experience',  'Salary'], outputCol='Indipendent features')"
   ]
  },
  {
   "cell_type": "code",
   "execution_count": 65,
   "metadata": {},
   "outputs": [
    {
     "data": {
      "text/plain": [
       "VectorAssembler_179d81e794be"
      ]
     },
     "execution_count": 65,
     "metadata": {},
     "output_type": "execute_result"
    }
   ],
   "source": [
    "feature_assembler"
   ]
  },
  {
   "cell_type": "code",
   "execution_count": 66,
   "metadata": {},
   "outputs": [],
   "source": [
    "output = feature_assembler.transform(training)"
   ]
  },
  {
   "cell_type": "code",
   "execution_count": 67,
   "metadata": {},
   "outputs": [
    {
     "name": "stdout",
     "output_type": "stream",
     "text": [
      "+--------------+---+----------+------+--------------------+\n",
      "|          Name|Age|Experience|Salary|Indipendent features|\n",
      "+--------------+---+----------+------+--------------------+\n",
      "|       Laraine| 32|       5.0| 90000|       [5.0,90000.0]|\n",
      "|           Eli| 28|       3.0| 65000|       [3.0,65000.0]|\n",
      "|         Arlin| 45|      15.0|150000|     [15.0,150000.0]|\n",
      "|        Talbot| 36|       7.0| 60000|       [7.0,60000.0]|\n",
      "|Sheila-kathryn| 52|      20.0|200000|     [20.0,200000.0]|\n",
      "|          Curr| 29|       2.0| 55000|       [2.0,55000.0]|\n",
      "|          Fina| 42|      12.0|120000|     [12.0,120000.0]|\n",
      "|           Rod| 31|       4.0| 80000|       [4.0,80000.0]|\n",
      "|          Mala| 26|       1.0| 45000|       [1.0,45000.0]|\n",
      "|      Fiorenze| 38|      10.0|110000|     [10.0,110000.0]|\n",
      "+--------------+---+----------+------+--------------------+\n",
      "only showing top 10 rows\n",
      "\n"
     ]
    }
   ],
   "source": [
    "output.show(10)"
   ]
  },
  {
   "cell_type": "code",
   "execution_count": 68,
   "metadata": {},
   "outputs": [
    {
     "data": {
      "text/plain": [
       "['Name', 'Age', 'Experience', 'Salary', 'Indipendent features']"
      ]
     },
     "execution_count": 68,
     "metadata": {},
     "output_type": "execute_result"
    }
   ],
   "source": [
    "output.columns"
   ]
  },
  {
   "cell_type": "code",
   "execution_count": 69,
   "metadata": {},
   "outputs": [],
   "source": [
    "finelized_data = output.select( 'Indipendent features','Salary')"
   ]
  },
  {
   "cell_type": "code",
   "execution_count": 70,
   "metadata": {},
   "outputs": [
    {
     "name": "stdout",
     "output_type": "stream",
     "text": [
      "+--------------------+------+\n",
      "|Indipendent features|Salary|\n",
      "+--------------------+------+\n",
      "|       [5.0,90000.0]| 90000|\n",
      "|       [3.0,65000.0]| 65000|\n",
      "|     [15.0,150000.0]|150000|\n",
      "|       [7.0,60000.0]| 60000|\n",
      "|     [20.0,200000.0]|200000|\n",
      "+--------------------+------+\n",
      "only showing top 5 rows\n",
      "\n"
     ]
    }
   ],
   "source": [
    "finelized_data.show(5)"
   ]
  },
  {
   "cell_type": "markdown",
   "metadata": {},
   "source": [
    "# linear regression"
   ]
  },
  {
   "cell_type": "code",
   "execution_count": 71,
   "metadata": {},
   "outputs": [],
   "source": [
    "from pyspark.ml.regression import LinearRegression"
   ]
  },
  {
   "cell_type": "code",
   "execution_count": 72,
   "metadata": {},
   "outputs": [],
   "source": [
    "train_data, test_data = finelized_data.randomSplit([0.8, 0.2])"
   ]
  },
  {
   "cell_type": "code",
   "execution_count": 73,
   "metadata": {},
   "outputs": [],
   "source": [
    "regressor = LinearRegression(featuresCol= 'Indipendent features', labelCol='Salary' )\n",
    "regressor= regressor.fit(train_data)"
   ]
  },
  {
   "cell_type": "code",
   "execution_count": 74,
   "metadata": {},
   "outputs": [
    {
     "data": {
      "text/plain": [
       "DenseVector([0.0, 1.0])"
      ]
     },
     "execution_count": 74,
     "metadata": {},
     "output_type": "execute_result"
    }
   ],
   "source": [
    "regressor.coefficients"
   ]
  },
  {
   "cell_type": "code",
   "execution_count": 75,
   "metadata": {},
   "outputs": [
    {
     "data": {
      "text/plain": [
       "1.9010943340238607e-11"
      ]
     },
     "execution_count": 75,
     "metadata": {},
     "output_type": "execute_result"
    }
   ],
   "source": [
    "regressor.intercept"
   ]
  },
  {
   "cell_type": "code",
   "execution_count": 76,
   "metadata": {},
   "outputs": [],
   "source": [
    "pred_result = regressor.evaluate(test_data)"
   ]
  },
  {
   "cell_type": "code",
   "execution_count": 77,
   "metadata": {},
   "outputs": [
    {
     "name": "stdout",
     "output_type": "stream",
     "text": [
      "+--------------------+------+-----------------+\n",
      "|Indipendent features|Salary|       prediction|\n",
      "+--------------------+------+-----------------+\n",
      "|       [1.5,35000.0]| 35000|35000.00000000001|\n",
      "|       [2.0,40000.0]| 40000|40000.00000000001|\n",
      "|       [2.0,40000.0]| 40000|40000.00000000001|\n",
      "|       [2.0,40000.0]| 40000|40000.00000000001|\n",
      "|       [2.0,50000.0]| 50000|          50000.0|\n",
      "|       [3.0,45000.0]| 45000|45000.00000000001|\n",
      "|       [3.0,50000.0]| 50000|50000.00000000001|\n",
      "|       [3.0,50000.0]| 50000|50000.00000000001|\n",
      "|       [3.0,55000.0]| 55000|55000.00000000001|\n",
      "|       [3.0,75000.0]| 75000|74999.99999999999|\n",
      "+--------------------+------+-----------------+\n",
      "only showing top 10 rows\n",
      "\n"
     ]
    }
   ],
   "source": [
    "pred_result.predictions.show(10)"
   ]
  },
  {
   "cell_type": "code",
   "execution_count": 78,
   "metadata": {},
   "outputs": [
    {
     "data": {
      "text/plain": [
       "(1.3497428617615631e-11, 3.1610287524345266e-22)"
      ]
     },
     "execution_count": 78,
     "metadata": {},
     "output_type": "execute_result"
    }
   ],
   "source": [
    "pred_result.meanAbsoluteError, pred_result.meanSquaredError"
   ]
  },
  {
   "cell_type": "code",
   "execution_count": null,
   "metadata": {},
   "outputs": [],
   "source": []
  }
 ],
 "metadata": {
  "kernelspec": {
   "display_name": "pyspark",
   "language": "python",
   "name": "python3"
  },
  "language_info": {
   "codemirror_mode": {
    "name": "ipython",
    "version": 3
   },
   "file_extension": ".py",
   "mimetype": "text/x-python",
   "name": "python",
   "nbconvert_exporter": "python",
   "pygments_lexer": "ipython3",
   "version": "3.11.4"
  },
  "orig_nbformat": 4
 },
 "nbformat": 4,
 "nbformat_minor": 2
}
